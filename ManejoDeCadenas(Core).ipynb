{
 "cells": [
  {
   "attachments": {},
   "cell_type": "markdown",
   "metadata": {},
   "source": [
    "#Manejo de cadenas\n"
   ]
  },
  {
   "attachments": {},
   "cell_type": "markdown",
   "metadata": {},
   "source": [
    "#Ejercicio 1: Saludo Personalizado\n",
    "- Crea un programa que pida al usuario su nombre y edad, y luego imprima un saludo personalizado.\n",
    "- Usa input para capturar el nombre y la edad.\n",
    "- Usa print para mostrar el saludo.\n"
   ]
  },
  {
   "cell_type": "code",
   "execution_count": 8,
   "metadata": {},
   "outputs": [
    {
     "name": "stdout",
     "output_type": "stream",
     "text": [
      "Un gusto en conocerlo señor/a, Mathias\n",
      "¿Usted tiene 23 años? Wow, se ve bien!!\n"
     ]
    }
   ],
   "source": [
    "nombre = input(\"Introduzca su Nombre: \")\n",
    "edad = input(\"Introduzca su edad: \")\n",
    "print(\"Un gusto en conocerlo señor/a,\",nombre)\n",
    "print(\"¿Usted tiene\",edad,\"años? Wow, se ve bien!!\")"
   ]
  },
  {
   "attachments": {},
   "cell_type": "markdown",
   "metadata": {},
   "source": [
    "#Ejercicio 2: Manipulación de cadenas\n",
    "- Crea una cadena con tu nombre completo.\n",
    "- Usa los métodos de cadenas para:\n",
    "    - Convertir el nombre a mayúsculas y minúsculas.\n",
    "    - Contar el número de letras en tu nombre.\n",
    "    - Reemplazar tu primer nombre por otro nombre."
   ]
  },
  {
   "cell_type": "code",
   "execution_count": 14,
   "metadata": {},
   "outputs": [
    {
     "name": "stdout",
     "output_type": "stream",
     "text": [
      "Mathias Damian Ortiz Sanabria\n",
      "MATHIAS DAMIAN ORTIZ SANABRIA\n",
      "26\n",
      "Roberto Damian Ortiz Sanabria\n"
     ]
    }
   ],
   "source": [
    "nombre_completo = \"Mathias Damian Ortiz Sanabria\"\n",
    "nombre_mayusculas = nombre_completo.upper()\n",
    "numero_de_letras = len(nombre_completo.replace(\" \", \"\")) #Esto es para eliminar los espacios y contar solo las letras\n",
    "reemplazo = nombre_completo.replace(\"Mathias\", \"Roberto\")\n",
    "print(nombre_completo)\n",
    "print(nombre_mayusculas)\n",
    "print(numero_de_letras)\n",
    "print(reemplazo)\n"
   ]
  },
  {
   "attachments": {},
   "cell_type": "markdown",
   "metadata": {},
   "source": [
    "#Ejercicio 3: Lista de nombres\n",
    "- Pide al usuario que ingrese una lista de nombres separados por comas.\n",
    "- Usa split para convertir esta cadena en una lista de nombres.\n",
    "- Imprime cada nombre en una línea separada."
   ]
  },
  {
   "cell_type": "code",
   "execution_count": 29,
   "metadata": {},
   "outputs": [
    {
     "name": "stdout",
     "output_type": "stream",
     "text": [
      "Mathias\n",
      "Pedro\n",
      "Raul\n",
      "Jose\n"
     ]
    }
   ],
   "source": [
    "cadena = input(\"Introduzca la lista de nombres separados por comas: \")\n",
    "lista_nombres = cadena.split(\",\")\n",
    "for cadena in lista_nombres:\n",
    "    print(cadena.strip()) #El strip es para eliminar los espacios de más\n",
    "\n"
   ]
  },
  {
   "cell_type": "code",
   "execution_count": null,
   "metadata": {},
   "outputs": [],
   "source": []
  }
 ],
 "metadata": {
  "kernelspec": {
   "display_name": "Python 3",
   "language": "python",
   "name": "python3"
  },
  "language_info": {
   "codemirror_mode": {
    "name": "ipython",
    "version": 3
   },
   "file_extension": ".py",
   "mimetype": "text/x-python",
   "name": "python",
   "nbconvert_exporter": "python",
   "pygments_lexer": "ipython3",
   "version": "3.12.6"
  },
  "orig_nbformat": 4
 },
 "nbformat": 4,
 "nbformat_minor": 2
}
