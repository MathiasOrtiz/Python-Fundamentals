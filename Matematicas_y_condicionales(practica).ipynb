{
 "cells": [
  {
   "attachments": {},
   "cell_type": "markdown",
   "metadata": {},
   "source": [
    "# Ejercicio 1: Calculadora Basica\n",
    "Crea un programa que pida al usuario dos números y luego le ofrezca un menú para realizar operaciones básicas (suma, resta, multiplicación, división). El programa debe mostrar el resultado de la operación seleccionada"
   ]
  },
  {
   "cell_type": "code",
   "execution_count": 5,
   "metadata": {},
   "outputs": [
    {
     "name": "stdout",
     "output_type": "stream",
     "text": [
      "Bienvenido a la calculadora básica de Mathi\n",
      "Estas son las opciones de operaciones: \n",
      "1. Suma\n",
      "2. Resta\n",
      "3. Multiplicacion\n",
      "4. Division\n",
      "Ha seleccionado la resta\n",
      "El resultado es:  6\n"
     ]
    }
   ],
   "source": [
    "print(\"Bienvenido a la calculadora básica de Mathi\")\n",
    "a = input(\"Ingrese el primer numero: \")\n",
    "b = input(\"Ingrese el segundo numero: \")\n",
    "\n",
    "print(\"Estas son las opciones de operaciones: \")\n",
    "print(\"1. Suma\")\n",
    "print(\"2. Resta\")\n",
    "print(\"3. Multiplicacion\")\n",
    "print(\"4. Division\")\n",
    "\n",
    "operacion = input(\"Ingrese el numero de la operacion que desea realizar: \")\n",
    "if operacion == \"1\":\n",
    "    print(\"Ha seleccionado la suma\")\n",
    "    print(\"El resultado es: \", int(a) + int(b))\n",
    "elif operacion == \"2\":\n",
    "    print(\"Ha seleccionado la resta\")\n",
    "    print(\"El resultado es: \", int(a) - int(b))\n",
    "elif operacion == \"3\":\n",
    "    print(\"Ha seleccionado la multiplicacion\")\n",
    "    print(\"El resultado es: \", int(a) * int(b))\n",
    "elif operacion == \"4\":\n",
    "    print(\"Ha seleccionado la division\")\n",
    "    if b == 0:\n",
    "        print(\"No se puede realizar la division por ser 0 el divisor\")\n",
    "    else:\n",
    "        print(\"El resultado es: \", int(a) / int(b))\n",
    "else:\n",
    "    print(\"Ha introducido una opción que no se encuentra en la lista.\")\n",
    "    print(\"Porfavor, verifique su entrada.\")"
   ]
  },
  {
   "attachments": {},
   "cell_type": "markdown",
   "metadata": {},
   "source": [
    "# Ejercicio 2: Determinar la mayororía de Edad\n",
    "Crea un programa que pida al usuario su edad y determine si es mayor de edad (18 años o más)."
   ]
  },
  {
   "cell_type": "code",
   "execution_count": 7,
   "metadata": {},
   "outputs": [
    {
     "name": "stdout",
     "output_type": "stream",
     "text": [
      "Bienvenido a la calculadora de mayoría de edad\n",
      "Usted es mayor de edad\n"
     ]
    }
   ],
   "source": [
    "print(\"Bienvenido a la calculadora de mayoría de edad\")\n",
    "a = input(\"Introduzca su edad: \")\n",
    "if int(a) >= 18:\n",
    "    print(\"Usted es mayor de edad\")\n",
    "else:\n",
    "    print(\"Usted es menor de edad\")"
   ]
  },
  {
   "attachments": {},
   "cell_type": "markdown",
   "metadata": {},
   "source": [
    "# Ejercicio 3: Juego de Adivinanza\n",
    "\n",
    "Crea un juego donde el programa elija un número aleatorio entre 1 y 100 y el usuario tenga que adivinarlo. El programa debe indicar si el número ingresado por el usuario es mayor, menor o igual al número secreto."
   ]
  },
  {
   "cell_type": "code",
   "execution_count": 10,
   "metadata": {},
   "outputs": [
    {
     "name": "stdout",
     "output_type": "stream",
     "text": [
      "Bienvenido al juego de adivinanza\n",
      "He seleccionado un número del 1 al 100. Intenta adivinarlo!!\n",
      "El numero es demasiado bajo\n",
      "El numero es demasiado bajo\n",
      "El numero es demasiado bajo\n",
      "El numero es demasiado bajo\n",
      "El numero es demasiado alto\n",
      "El numero es demasiado alto\n",
      "El numero es demasiado bajo\n",
      "El numero es demasiado bajo\n",
      "El numero es demasiado bajo\n",
      "Felicidades, ha logrado adivinar el número en 10 intentos\n",
      "Si te ha gustado el juego presiona 1, si no, presiona 2\n",
      "¡Gracias por jugar, vuelva pronto!\n"
     ]
    }
   ],
   "source": [
    "import random\n",
    "numero_secreto = random.randint(1, 100)\n",
    "intentos = 0\n",
    "encontrado = False\n",
    "\n",
    "print(\"Bienvenido al juego de adivinanza\")\n",
    "print(\"He seleccionado un número del 1 al 100. Intenta adivinarlo!!\")\n",
    "\n",
    "input(\"Pulsa ENTER para comenzar\")\n",
    "while not encontrado:\n",
    "    numero = int(input(\"Introduce un número: \"))\n",
    "    intentos += 1\n",
    "    if numero < numero_secreto:\n",
    "        print(\"El numero es demasiado bajo\")\n",
    "    elif numero > numero_secreto:\n",
    "        print(\"El numero es demasiado alto\")\n",
    "    else:\n",
    "        print(\"Felicidades, ha logrado adivinar el número en\", intentos, \"intentos\")\n",
    "        encontrado = True\n",
    "\n",
    "print(\"Si te ha gustado el juego presiona 1, si no, presiona 2\")\n",
    "calificacion = int(input(\" \"))\n",
    "if calificacion == 1:\n",
    "    print(\"¡Gracias por jugar, vuelva pronto!\")\n",
    "elif calificacion == 2:\n",
    "    print(\"Nos entritece oir eso :(, trateremos de mejor para usted!!)\")\n",
    "else:\n",
    "    print(\"No ha introducido una opción válida!\")\n",
    "\n",
    "\n"
   ]
  },
  {
   "attachments": {},
   "cell_type": "markdown",
   "metadata": {},
   "source": [
    "# Ejercicio 4: Comparación de Tres Números\n",
    "\n",
    "Crea un programa que pida al usuario tres números y determine cuál es el mayor."
   ]
  },
  {
   "cell_type": "code",
   "execution_count": 11,
   "metadata": {},
   "outputs": [
    {
     "name": "stdout",
     "output_type": "stream",
     "text": [
      "El mayor es:  40\n"
     ]
    }
   ],
   "source": [
    "a = input(\"Introduzca el primer numero: \")\n",
    "b = input(\"Introduzca el segundo número: \")\n",
    "c = input(\"Introduzca el tercer número: \")\n",
    "if float(a) > float(b) and float(a) > float(c):\n",
    "    print(\"El mayor es: \", a)\n",
    "elif float(b) > float (a) and float(b) > float(C):\n",
    "    print(\"El mayor es: \", b)\n",
    "else:\n",
    "    print(\"El mayor es, \", c)"
   ]
  }
 ],
 "metadata": {
  "kernelspec": {
   "display_name": "Python 3",
   "language": "python",
   "name": "python3"
  },
  "language_info": {
   "codemirror_mode": {
    "name": "ipython",
    "version": 3
   },
   "file_extension": ".py",
   "mimetype": "text/x-python",
   "name": "python",
   "nbconvert_exporter": "python",
   "pygments_lexer": "ipython3",
   "version": "3.12.6"
  },
  "orig_nbformat": 4
 },
 "nbformat": 4,
 "nbformat_minor": 2
}
