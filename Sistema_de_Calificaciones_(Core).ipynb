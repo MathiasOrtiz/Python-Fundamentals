{
 "cells": [
  {
   "attachments": {},
   "cell_type": "markdown",
   "metadata": {},
   "source": [
    "# Sistema de Calificaciones (Core)\n",
    "\n"
   ]
  },
  {
   "attachments": {},
   "cell_type": "markdown",
   "metadata": {},
   "source": [
    "Objetivo:\n",
    "\n",
    "- Evaluar las capacidades de los estudiantes en el uso de operaciones matemáticas básicas, booleanos y condicionales en Python, así como su capacidad para analizar problemas, comprender requerimientos y desarrollar lógica de programación."
   ]
  },
  {
   "attachments": {},
   "cell_type": "markdown",
   "metadata": {},
   "source": [
    "Instrucciones:\n",
    "\n",
    "1. Descripción del Problema: Imagina que estás desarrollando un sistema de gestión de calificaciones para una escuela. El sistema debe permitir a los profesores ingresar las calificaciones de los estudiantes para diferentes asignaturas y luego calcular el promedio de cada estudiante. Además, el sistema debe determinar si el estudiante ha aprobado o reprobado basándose en su promedio. Para aprobar, un estudiante debe tener un promedio de al menos 6.0.\n",
    "\n",
    "2. Requisitos del Sistema:\n",
    "- El programa debe pedir al usuario que ingrese el número de estudiantes.\n",
    "Para cada estudiante, el programa debe pedir al usuario que ingrese su nombre.\n",
    "- Luego, el programa debe pedir al usuario que ingrese el número de asignaturas.\n",
    "Para cada asignatura, el programa debe pedir al usuario que ingrese el nombre de la asignatura y la calificación obtenida.\n",
    "- El programa debe calcular el promedio de calificaciones para cada estudiante.\n",
    "- Finalmente, el programa debe imprimir el nombre del estudiante, su promedio y un mensaje indicando si ha aprobado o reprobado.\n",
    "3. Detalles Específicos:\n",
    "- Si se ingresa un valor no numérico para una calificación, el programa debe manejar el error e indicar que se ha ingresado un valor no válido.\n",
    "- Si se ingresa una calificación fuera del rango de 0 a 10, el programa debe ignorar esa calificación y pedir al usuario que ingrese una calificación válida.\n",
    "- El programa debe imprimir un resumen al final que incluya el nombre de todos los estudiantes, sus promedios y su estado (aprobado o reprobado).\n",
    "- El programa debe ser robusto y manejar casos en los que no se ingresen datos o se ingresen datos incorrectos.\n",
    "4. Consideraciones Adicionales:\n",
    "- Asegúrate de utilizar funciones para organizar tu código y evitar redundancias.\n",
    "- Usa comentarios para explicar cada sección de tu código.\n",
    "- Considera posibles errores y cómo manejarlos adecuadamente.\n",
    "- Piensa en la experiencia del usuario y asegúrate de que las instrucciones sean claras y concisas.\n"
   ]
  },
  {
   "cell_type": "code",
   "execution_count": 27,
   "metadata": {},
   "outputs": [
    {
     "name": "stdout",
     "output_type": "stream",
     "text": [
      "Resumen:\n",
      "Estudiante: Mathias, Promedio: 9.875, Estado: Aprobado\n",
      "Estudiante: Raul, Promedio: 2.0, Estado: Reprobado\n",
      "Estudiante: Pedro, Promedio: 6.25, Estado: Aprobado\n"
     ]
    }
   ],
   "source": [
    "def obtener_numero_estudiantes():\n",
    "    # Pide al usuario el número de estudiantes y devuelve el valor\n",
    "    while True: #Utilizo while para que el usuario repita hasta que elija un valor correcto\n",
    "        try:\n",
    "            num_estudiantes = int(input(\"Introduce el número de estudiantes: \"))\n",
    "            if num_estudiantes > 0:\n",
    "                return num_estudiantes\n",
    "            else:\n",
    "                print(\"El numero de estudiantes debe ser mayor que 0\")\n",
    "        except ValueError: \n",
    "            print(\"El valor introducido es incorrecto, introduce un numero entero\")\n",
    "\n",
    "def obtener_nombre_estudiante():\n",
    "    # Pide al usuario el nombre del estudiante y devuelve el valor\n",
    "    while True:\n",
    "        try:\n",
    "            nombre_estudiante = input(f\"Introduce el nombre del estudiante: {i + 1}: \") #Utilizo el i + 1 para que vaya pidiendo estudiante 1, 2, 3, etc.\n",
    "            if nombre_estudiante.isalpha():\n",
    "                return nombre_estudiante\n",
    "            else:\n",
    "                print(\"El nombre del estudiante solo puede contener letras\")\n",
    "        except ValueError:\n",
    "                print(\"El valor introducido es incorrecto, por favor introduce un nombre válido\")\n",
    "\n",
    "def obtener_numero_asignaturas():\n",
    "    # Pide al usuario el número de asignaturas y devuelve el valor\n",
    "    while True:\n",
    "        try:\n",
    "            num_asignaturas = int(input(\"Introduce el número de asignaturas: \"))\n",
    "            if num_asignaturas > 0:\n",
    "                return num_asignaturas\n",
    "            else:\n",
    "                print(\"El numero de asignaturas debe ser mayor que 0\")\n",
    "        except ValueError:\n",
    "            print(\"El valor introducido es incorrecto, introduce un numero entero\")\n",
    "\n",
    "def obtener_nombre_asignatura():\n",
    "    # Pide al usuario el nombre de la asignatura y devuelve el valor\n",
    "    return input(f\"Introduce el nombre de la asignatura: \") #Aqui no utilizo que solo contenga letras porque puede tener números. Ej: Fisica 1.\n",
    "\n",
    "def obtener_calificaciones(estudiante, asignaturas):\n",
    "    # Pide al usuario las calificaciones para cada asignatura y las devuelve en una lista\n",
    "    calificaciones = {}\n",
    "    for asignatura in asignaturas:\n",
    "        while True:\n",
    "            try:\n",
    "                calificacion = float(input(f\"Introduce la calificacion de {asignatura} para {estudiante}:\"))\n",
    "                if calificacion >= 0 and calificacion <= 10:\n",
    "                    calificaciones[asignatura] = calificacion\n",
    "                    break #Si la calificación es correcta, salgo del bucle, si no muestro un mensaje de error y vuelvo a pedir la calificación\n",
    "                else:\n",
    "                    print(\"La calificación debe estar entre 0 y 10\")\n",
    "            except ValueError:\n",
    "                print(\"El valor introducido es incorrecto, introduce un numero entre 0 y 10\")\n",
    "    return calificaciones\n",
    "\n",
    "def calcular_promedio(calificaciones):\n",
    "    # Calcula y devuelve el promedio de las calificaciones\n",
    "    promedio = sum(calificaciones.values()) / len(calificaciones) #Con esto calculo el promedio de las calificaciones. El values es para que me traiga solo los valores.\n",
    "    return promedio\n",
    "\n",
    "def determinar_estado(promedio):\n",
    "    return \"Aprobado\" if promedio >= 6.00 else \"Reprobado\"\n",
    "\n",
    "def imprimir_resumen(estudiantes):\n",
    "    # Imprime un resumen con el nombre de los estudiantes, su promedio y su estado\n",
    "    print(\"Resumen:\")\n",
    "    for estudiante, calificaciones in estudiantes.items():\n",
    "        promedio = calcular_promedio(calificaciones)\n",
    "        estado = determinar_estado(promedio)\n",
    "        print(f\"Estudiante: {estudiante}, Promedio: {promedio}, Estado: {estado}\")\n",
    "\n",
    "num_estudiantes = obtener_numero_estudiantes() #Esto ya seria mi funcion principal. Al comienzo ordené abajo de cada cosa pero al final lo puse en la parte final como debe ser.\n",
    "estudiantes = {}\n",
    "\n",
    "num_asignaturas = obtener_numero_asignaturas()\n",
    "asignaturas = [obtener_nombre_asignatura() for _ in range(num_asignaturas)]\n",
    "\n",
    "for i in range(num_estudiantes):\n",
    "    nombre = obtener_nombre_estudiante()\n",
    "    calificaciones = obtener_calificaciones(nombre, asignaturas)\n",
    "    estudiantes[nombre] = calificaciones\n",
    "\n",
    "imprimir_resumen(estudiantes) #Esta es la llamada a la funcion del resumen\n",
    "\n"
   ]
  },
  {
   "cell_type": "code",
   "execution_count": null,
   "metadata": {},
   "outputs": [],
   "source": [
    "num_estudiantes = obtener_numero_estudiantes()\n",
    "estudiantes = []\n",
    "\n",
    "for _ in range(num_estudiantes):\n",
    "    nombre = obtener_nombre_estudiante()\n",
    "    num_asignaturas = obtener_numero_asignaturas()\n",
    "    calificaciones = obtener_calificaciones(num_asignaturas)\n",
    "    promedio = calcular_promedio(calificaciones)\n",
    "    estado = determinar_estado(promedio)\n",
    "    \n",
    "    estudiantes.append({\n",
    "        'nombre': nombre,\n",
    "        'promedio': promedio,\n",
    "        'estado': estado\n",
    "    })\n",
    "\n",
    "imprimir_resumen(estudiantes)"
   ]
  },
  {
   "cell_type": "code",
   "execution_count": null,
   "metadata": {},
   "outputs": [],
   "source": []
  }
 ],
 "metadata": {
  "kernelspec": {
   "display_name": "Python 3",
   "language": "python",
   "name": "python3"
  },
  "language_info": {
   "codemirror_mode": {
    "name": "ipython",
    "version": 3
   },
   "file_extension": ".py",
   "mimetype": "text/x-python",
   "name": "python",
   "nbconvert_exporter": "python",
   "pygments_lexer": "ipython3",
   "version": "3.12.6"
  },
  "orig_nbformat": 4
 },
 "nbformat": 4,
 "nbformat_minor": 2
}
